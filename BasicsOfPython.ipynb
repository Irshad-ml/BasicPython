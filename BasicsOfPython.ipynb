{
 "cells": [
  {
   "cell_type": "markdown",
   "metadata": {},
   "source": [
    "# Basic Understanding of Python"
   ]
  },
  {
   "cell_type": "code",
   "execution_count": 2,
   "metadata": {},
   "outputs": [
    {
     "name": "stdout",
     "output_type": "stream",
     "text": [
      "10\n",
      "-10\n",
      "<class 'int'> <class 'int'>\n"
     ]
    }
   ],
   "source": [
    "#int datatype\n",
    "\n",
    "a=10\n",
    "b=-10\n",
    "print(a)\n",
    "print(b)\n",
    "print(type(a),type(b))"
   ]
  },
  {
   "cell_type": "code",
   "execution_count": 5,
   "metadata": {},
   "outputs": [
    {
     "name": "stdout",
     "output_type": "stream",
     "text": [
      "10.8\n",
      "2.6666666666666665\n",
      "<class 'float'> <class 'float'>\n"
     ]
    }
   ],
   "source": [
    "#float datatype\n",
    "\n",
    "a=10.8\n",
    "b=8/3\n",
    "print(a)\n",
    "print(b)\n",
    "print(type(a),type(b))"
   ]
  },
  {
   "cell_type": "code",
   "execution_count": 6,
   "metadata": {},
   "outputs": [
    {
     "name": "stdout",
     "output_type": "stream",
     "text": [
      "<class 'str'>\n",
      "<class 'str'>\n"
     ]
    }
   ],
   "source": [
    "#str datatype\n",
    "s=\"Irshad\"\n",
    "s1=\"I\"\n",
    "s3=\"\"\"Irshad's book\"\"\"\n",
    "print(type(s3))\n",
    "print(type(s1))"
   ]
  },
  {
   "cell_type": "code",
   "execution_count": 7,
   "metadata": {},
   "outputs": [
    {
     "name": "stdout",
     "output_type": "stream",
     "text": [
      "<class 'bool'>\n",
      "<class 'bool'>\n"
     ]
    }
   ],
   "source": [
    "#bool datatypes\n",
    "\n",
    "a=True \n",
    "b=False\n",
    "print(type(a))\n",
    "print(type(b))"
   ]
  },
  {
   "cell_type": "code",
   "execution_count": 9,
   "metadata": {},
   "outputs": [
    {
     "name": "stdout",
     "output_type": "stream",
     "text": [
      "10.0\n",
      "20.0\n"
     ]
    }
   ],
   "source": [
    "#complex datatype store data in the form of a+bj format\n",
    "a=10+20j\n",
    "print(a.real)\n",
    "print(a.imag)"
   ]
  },
  {
   "cell_type": "code",
   "execution_count": 13,
   "metadata": {},
   "outputs": [
    {
     "name": "stdout",
     "output_type": "stream",
     "text": [
      "13\n",
      "6\n",
      "1.6666666666666667\n",
      "140\n"
     ]
    }
   ],
   "source": [
    "#Arithemtic operator\n",
    "\n",
    "#define a function which do all the mathematic operation\n",
    "\n",
    "def mathOperation(a,b,exp):\n",
    "    if exp in [\"+\",\"sum\",\"addition\",\"add\"]:\n",
    "        return a+b\n",
    "    elif exp in [\"-\",\"minus\",\"subtraction\",\"difference\"]:\n",
    "        return a-b\n",
    "    elif exp in [\"divide\",\"/\",\"division\"]:\n",
    "        return a/b\n",
    "    elif exp in [\"multiplication\",\"multiply\",\"*\"]:\n",
    "        return a*b\n",
    "    \n",
    "\n",
    "print(mathOperation(10,3,\"+\"))\n",
    "print(mathOperation(10,4,\"-\"))\n",
    "print(mathOperation(10,6,\"/\"))\n",
    "print(mathOperation(20,7,\"*\"))"
   ]
  },
  {
   "cell_type": "code",
   "execution_count": 14,
   "metadata": {},
   "outputs": [
    {
     "data": {
      "text/plain": [
       "1"
      ]
     },
     "execution_count": 14,
     "metadata": {},
     "output_type": "execute_result"
    }
   ],
   "source": [
    "1 or 0"
   ]
  },
  {
   "cell_type": "code",
   "execution_count": 15,
   "metadata": {},
   "outputs": [
    {
     "data": {
      "text/plain": [
       "1"
      ]
     },
     "execution_count": 15,
     "metadata": {},
     "output_type": "execute_result"
    }
   ],
   "source": [
    "1 or 1"
   ]
  },
  {
   "cell_type": "code",
   "execution_count": 16,
   "metadata": {},
   "outputs": [
    {
     "data": {
      "text/plain": [
       "0"
      ]
     },
     "execution_count": 16,
     "metadata": {},
     "output_type": "execute_result"
    }
   ],
   "source": [
    "0 or 0"
   ]
  },
  {
   "cell_type": "code",
   "execution_count": 17,
   "metadata": {},
   "outputs": [
    {
     "data": {
      "text/plain": [
       "1"
      ]
     },
     "execution_count": 17,
     "metadata": {},
     "output_type": "execute_result"
    }
   ],
   "source": [
    "0 or 1"
   ]
  },
  {
   "cell_type": "code",
   "execution_count": 19,
   "metadata": {},
   "outputs": [
    {
     "name": "stdout",
     "output_type": "stream",
     "text": [
      "[3, 4, 5, 6, 6, 5, 6, 6, 7, 7, 8, 8, 1, 2, 3]\n"
     ]
    }
   ],
   "source": [
    "#List\n",
    "#list is a collection related datatype which contain multiple elements where duplicates are allowed and also maintain the \n",
    "#order\n",
    "l=[3,4,5,6,6,5,6,6,7,7,8,8,1,2,3]\n",
    "print(l)"
   ]
  },
  {
   "cell_type": "code",
   "execution_count": 20,
   "metadata": {},
   "outputs": [
    {
     "name": "stdout",
     "output_type": "stream",
     "text": [
      "['Irshad', 'Khalid', 'Kolkata']\n",
      "[4, 5, 6, 6, 9, 45, 4]\n",
      "[5.6, 66.5, 88.6]\n",
      "[True, False, True]\n"
     ]
    }
   ],
   "source": [
    "#List contain homogenous type value\n",
    "\n",
    "l_str=[\"Irshad\",\"Khalid\",\"Kolkata\"]\n",
    "l_int=[4,5,6,6,9,45,4]\n",
    "l_float=[5.6,66.5,88.6]\n",
    "l_bool=[True,False,True]\n",
    "print(l_str)\n",
    "print(l_int)\n",
    "print(l_float)\n",
    "print(l_bool)"
   ]
  },
  {
   "cell_type": "code",
   "execution_count": 21,
   "metadata": {},
   "outputs": [
    {
     "name": "stdout",
     "output_type": "stream",
     "text": [
      "<class 'list'>\n"
     ]
    }
   ],
   "source": [
    "#list contain heterogenous  type value\n",
    "\n",
    "l=[3,4,5,5,\"Irshad\",\"Mohan\",55.6,True]\n",
    "print(type(l))"
   ]
  },
  {
   "cell_type": "code",
   "execution_count": 23,
   "metadata": {},
   "outputs": [
    {
     "name": "stdout",
     "output_type": "stream",
     "text": [
      "3\n",
      "4\n",
      "5\n",
      "Mohan\n"
     ]
    }
   ],
   "source": [
    "#list support indexes both positive index and negative index\n",
    "\n",
    "l=[3,4,5,5,\"Irshad\",\"Mohan\",55.6,True]\n",
    "\n",
    "#By using positive index we can fetch single single values\n",
    "\n",
    "l=[3,4,5,5,\"Irshad\",\"Mohan\",55.6,True]\n",
    "print(l[0])\n",
    "print(l[1])\n",
    "print(l[2])\n",
    "print(l[5])"
   ]
  },
  {
   "cell_type": "code",
   "execution_count": 25,
   "metadata": {},
   "outputs": [
    {
     "name": "stdout",
     "output_type": "stream",
     "text": [
      "True\n",
      "55.6\n",
      "Mohan\n",
      "Irshad\n"
     ]
    }
   ],
   "source": [
    "#By Negative index we can fetch the single single values\n",
    "\n",
    "print(l[-1])\n",
    "print(l[-2])\n",
    "print(l[-3])\n",
    "print(l[-4])"
   ]
  },
  {
   "cell_type": "code",
   "execution_count": 28,
   "metadata": {},
   "outputs": [
    {
     "name": "stdout",
     "output_type": "stream",
     "text": [
      "[3, 4, 5, 5, 'Irshad', 'Mohan']\n",
      "[3, 4, 5, 5, 'Irshad']\n",
      "[4, 5, 5]\n",
      "[3, 4, 5, 5, 'Irshad', 'Mohan', 55.6]\n"
     ]
    }
   ],
   "source": [
    "#list support slicing operator.\n",
    "#Slicing operator is used to fetch partial values and complete value also ,it depends on start index and end index and setps\n",
    "\n",
    "l=[3,4,5,5,\"Irshad\",\"Mohan\",55.6,True]\n",
    "print(l[0:6]) #This gives value from 0th index to 5thn index\n",
    "print(l[:5])  #This gives value from 0th index to 4th index\n",
    "print(l[1:4]) #this gives value from 1st index to 3rd index\n",
    "print(l[:-1]) #this gives all values except last one means this gives value from 0 to -2nd index"
   ]
  },
  {
   "cell_type": "code",
   "execution_count": 29,
   "metadata": {},
   "outputs": [
    {
     "name": "stdout",
     "output_type": "stream",
     "text": [
      "[True, 55.6, 'Mohan', 'Irshad', 5, 5, 4, 3]\n",
      "[True, 55.6, 'Mohan', 'Irshad', 5, 5, 4, 3]\n",
      "[True, 55.6, 'Mohan', 'Irshad', 5]\n"
     ]
    }
   ],
   "source": [
    "print(l[-1::-1])\n",
    "print(l[::-1])\n",
    "print(l[-1:-6:-1])"
   ]
  },
  {
   "cell_type": "code",
   "execution_count": 30,
   "metadata": {},
   "outputs": [
    {
     "name": "stdout",
     "output_type": "stream",
     "text": [
      "[1, 2, 3, 4, 5, 4, 6, 6, 7, 5, 4, [4, 5, 6, 6], [5, 6, 4, 3], 'Irshad']\n"
     ]
    }
   ],
   "source": [
    "#list support concatenation\n",
    "l1=[1,2,3,4,5]\n",
    "l2=[4,6,6,7,5,4]\n",
    "l3=[[4,5,6,6],[5,6,4,3],\"Irshad\"]\n",
    "print(l1+l2+l3)"
   ]
  },
  {
   "cell_type": "code",
   "execution_count": 31,
   "metadata": {},
   "outputs": [
    {
     "ename": "TypeError",
     "evalue": "can only concatenate list (not \"int\") to list",
     "output_type": "error",
     "traceback": [
      "\u001b[1;31m---------------------------------------------------------------------------\u001b[0m",
      "\u001b[1;31mTypeError\u001b[0m                                 Traceback (most recent call last)",
      "\u001b[1;32m<ipython-input-31-9ef8d135fd00>\u001b[0m in \u001b[0;36m<module>\u001b[1;34m\u001b[0m\n\u001b[0;32m      1\u001b[0m \u001b[1;31m#we cannot concatenate list with integer\u001b[0m\u001b[1;33m\u001b[0m\u001b[1;33m\u001b[0m\u001b[1;33m\u001b[0m\u001b[0m\n\u001b[1;32m----> 2\u001b[1;33m \u001b[1;33m[\u001b[0m\u001b[1;36m2\u001b[0m\u001b[1;33m,\u001b[0m\u001b[1;36m3\u001b[0m\u001b[1;33m,\u001b[0m\u001b[1;36m4\u001b[0m\u001b[1;33m,\u001b[0m\u001b[1;36m5\u001b[0m\u001b[1;33m]\u001b[0m\u001b[1;33m+\u001b[0m\u001b[1;36m100\u001b[0m\u001b[1;33m\u001b[0m\u001b[1;33m\u001b[0m\u001b[0m\n\u001b[0m",
      "\u001b[1;31mTypeError\u001b[0m: can only concatenate list (not \"int\") to list"
     ]
    }
   ],
   "source": [
    "#we cannot concatenate list with integer\n",
    "[2,3,4,5]+100"
   ]
  },
  {
   "cell_type": "code",
   "execution_count": 33,
   "metadata": {},
   "outputs": [
    {
     "ename": "TypeError",
     "evalue": "can only concatenate list (not \"tuple\") to list",
     "output_type": "error",
     "traceback": [
      "\u001b[1;31m---------------------------------------------------------------------------\u001b[0m",
      "\u001b[1;31mTypeError\u001b[0m                                 Traceback (most recent call last)",
      "\u001b[1;32m<ipython-input-33-9b2f1ee212f1>\u001b[0m in \u001b[0;36m<module>\u001b[1;34m\u001b[0m\n\u001b[0;32m      2\u001b[0m \u001b[1;33m\u001b[0m\u001b[0m\n\u001b[0;32m      3\u001b[0m \u001b[1;31m#print([3,4,5,6,6]+\"Irshad\")\u001b[0m\u001b[1;33m\u001b[0m\u001b[1;33m\u001b[0m\u001b[1;33m\u001b[0m\u001b[0m\n\u001b[1;32m----> 4\u001b[1;33m \u001b[0mprint\u001b[0m\u001b[1;33m(\u001b[0m\u001b[1;33m[\u001b[0m\u001b[1;36m5\u001b[0m\u001b[1;33m,\u001b[0m\u001b[1;36m6\u001b[0m\u001b[1;33m,\u001b[0m\u001b[1;36m7\u001b[0m\u001b[1;33m,\u001b[0m\u001b[1;36m8\u001b[0m\u001b[1;33m]\u001b[0m\u001b[1;33m+\u001b[0m\u001b[1;33m(\u001b[0m\u001b[1;36m2\u001b[0m\u001b[1;33m,\u001b[0m\u001b[1;36m3\u001b[0m\u001b[1;33m,\u001b[0m\u001b[1;36m4\u001b[0m\u001b[1;33m,\u001b[0m\u001b[1;36m5\u001b[0m\u001b[1;33m)\u001b[0m\u001b[1;33m)\u001b[0m\u001b[1;33m\u001b[0m\u001b[1;33m\u001b[0m\u001b[0m\n\u001b[0m",
      "\u001b[1;31mTypeError\u001b[0m: can only concatenate list (not \"tuple\") to list"
     ]
    }
   ],
   "source": [
    "#we cannot concatenate list with tuple,string\n",
    "\n",
    "print([3,4,5,6,6]+\"Irshad\")\n",
    "print([5,6,7,8]+(2,3,4,5))"
   ]
  },
  {
   "cell_type": "code",
   "execution_count": 35,
   "metadata": {},
   "outputs": [
    {
     "name": "stdout",
     "output_type": "stream",
     "text": [
      "[3, 4, 5, 6, 3, 4, 5, 6, 3, 4, 5, 6]\n",
      "[3, 4, 5, 6, 3, 4, 5, 6, 3, 4, 5, 6, 3, 4, 5, 6]\n"
     ]
    }
   ],
   "source": [
    "#list support repetation operator\n",
    "\n",
    "l=[3,4,5,6]\n",
    "print(l*3)\n",
    "print(l*4)"
   ]
  },
  {
   "cell_type": "code",
   "execution_count": 36,
   "metadata": {},
   "outputs": [
    {
     "name": "stdout",
     "output_type": "stream",
     "text": [
      "1300044799048\n",
      "[1000, 55, 66, 4, 33, 66]\n",
      "1300044799048\n"
     ]
    }
   ],
   "source": [
    "#list is a mutable object means once the list object is created, the same list object value or data we can change or \n",
    "#modify but no new object is create\n",
    "\n",
    "l=[44,55,66,4,33,66]\n",
    "print(id(l))#this gives memory of an object\n",
    "l[0]=1000\n",
    "print(l)\n",
    "print(id(l))"
   ]
  },
  {
   "cell_type": "code",
   "execution_count": 48,
   "metadata": {},
   "outputs": [
    {
     "name": "stdout",
     "output_type": "stream",
     "text": [
      "[4, 5, 6, 6]\n",
      "[4, 5, 6, 6, 'Irshad']\n",
      "[4, 5, 6, 6, 'Irshad', 'Kailash']\n"
     ]
    }
   ],
   "source": [
    "#Function of an list\n",
    "#append() :It append or add the given value at the last index of the list\n",
    "\n",
    "l=[4,5,6,6]\n",
    "print(l)\n",
    "l.append(\"Irshad\")\n",
    "print(l)\n",
    "l.append(\"Kailash\")\n",
    "print(l)"
   ]
  },
  {
   "cell_type": "code",
   "execution_count": 50,
   "metadata": {},
   "outputs": [
    {
     "name": "stdout",
     "output_type": "stream",
     "text": [
      "[44, 66, 4, 33, 66]\n",
      "[44, 4, 33, 66]\n"
     ]
    }
   ],
   "source": [
    "#remove() : It removes the given value from the list\n",
    "\n",
    "l=[44,55,66,4,33,66]\n",
    "l.remove(55)\n",
    "print(l)\n",
    "l.remove(66)\n",
    "print(l)"
   ]
  },
  {
   "cell_type": "code",
   "execution_count": 51,
   "metadata": {},
   "outputs": [
    {
     "name": "stdout",
     "output_type": "stream",
     "text": [
      "[44, 55, 66, 4, 33, 66]\n",
      "[44, 55, 'Irshad', 66, 4, 33, 66]\n"
     ]
    }
   ],
   "source": [
    "#insert(): It insert the given value at the given index\n",
    "\n",
    "l=[44,55,66,4,33,66]\n",
    "print(l)\n",
    "l.insert(2,\"Irshad\")\n",
    "print(l)"
   ]
  },
  {
   "cell_type": "code",
   "execution_count": 52,
   "metadata": {},
   "outputs": [
    {
     "data": {
      "text/plain": [
       "4"
      ]
     },
     "execution_count": 52,
     "metadata": {},
     "output_type": "execute_result"
    }
   ],
   "source": [
    "#pop() : It removes the value from the list based on the given index\n",
    "\n",
    "l=[44,55,66,4,33,66]\n",
    "l.pop(3)"
   ]
  },
  {
   "cell_type": "code",
   "execution_count": 54,
   "metadata": {},
   "outputs": [
    {
     "data": {
      "text/plain": [
       "66"
      ]
     },
     "execution_count": 54,
     "metadata": {},
     "output_type": "execute_result"
    }
   ],
   "source": [
    "l.pop(2)"
   ]
  },
  {
   "cell_type": "code",
   "execution_count": 55,
   "metadata": {},
   "outputs": [
    {
     "data": {
      "text/plain": [
       "[44, 55, 33, 66]"
      ]
     },
     "execution_count": 55,
     "metadata": {},
     "output_type": "execute_result"
    }
   ],
   "source": [
    "l"
   ]
  },
  {
   "cell_type": "code",
   "execution_count": 56,
   "metadata": {},
   "outputs": [
    {
     "data": {
      "text/plain": [
       "[1, 2, 2, 3, 4, 4, 6, 9, 11, 66, 222, 444, 555, 3333]"
      ]
     },
     "execution_count": 56,
     "metadata": {},
     "output_type": "execute_result"
    }
   ],
   "source": [
    "#sort() : It sort the list value in ascending order as well as descending order also.Bydefault it sort the list value\n",
    "#in ascending order\n",
    "\n",
    "l=[444,66,3333,555,222,4,2,2,11,1,6,9,3,4]\n",
    "l.sort()\n",
    "l"
   ]
  },
  {
   "cell_type": "code",
   "execution_count": 58,
   "metadata": {},
   "outputs": [
    {
     "data": {
      "text/plain": [
       "[3333, 555, 444, 222, 66, 11, 9, 6, 4, 4, 3, 2, 2, 1]"
      ]
     },
     "execution_count": 58,
     "metadata": {},
     "output_type": "execute_result"
    }
   ],
   "source": [
    "l=[444,66,3333,555,222,4,2,2,11,1,6,9,3,4]\n",
    "l.sort(reverse=True)\n",
    "l"
   ]
  },
  {
   "cell_type": "code",
   "execution_count": 60,
   "metadata": {},
   "outputs": [
    {
     "data": {
      "text/plain": [
       "555"
      ]
     },
     "execution_count": 60,
     "metadata": {},
     "output_type": "execute_result"
    }
   ],
   "source": [
    "#How to fetch the second highest value from the list\n",
    "l=[444,66,3333,555,222,4,2,2,11,1,6,9,3,4]\n",
    "l.sort(reverse=True)\n",
    "l[1]"
   ]
  },
  {
   "cell_type": "code",
   "execution_count": 61,
   "metadata": {},
   "outputs": [
    {
     "data": {
      "text/plain": [
       "3333"
      ]
     },
     "execution_count": 61,
     "metadata": {},
     "output_type": "execute_result"
    }
   ],
   "source": [
    "#How to fetch the maximum value from the list\n",
    "l=[444,66,3333,555,222,4,2,2,11,1,6,9,3,4]\n",
    "max(l)"
   ]
  },
  {
   "cell_type": "code",
   "execution_count": 62,
   "metadata": {},
   "outputs": [
    {
     "data": {
      "text/plain": [
       "1"
      ]
     },
     "execution_count": 62,
     "metadata": {},
     "output_type": "execute_result"
    }
   ],
   "source": [
    "#How to fetch the minimum value from the list\n",
    "l=[444,66,3333,555,222,4,2,2,11,1,6,9,3,4]\n",
    "min(l)"
   ]
  },
  {
   "cell_type": "code",
   "execution_count": 63,
   "metadata": {},
   "outputs": [
    {
     "data": {
      "text/plain": [
       "[4, 3, 9, 6, 1, 11, 2, 2, 4, 222, 555, 3333, 66, 444]"
      ]
     },
     "execution_count": 63,
     "metadata": {},
     "output_type": "execute_result"
    }
   ],
   "source": [
    "#reverse() : It reverse the list value\n",
    "l=[444,66,3333,555,222,4,2,2,11,1,6,9,3,4]\n",
    "l.reverse()\n",
    "l"
   ]
  },
  {
   "cell_type": "code",
   "execution_count": 64,
   "metadata": {},
   "outputs": [
    {
     "data": {
      "text/plain": [
       "['Bhagan', 'Mohan', 'Irshad']"
      ]
     },
     "execution_count": 64,
     "metadata": {},
     "output_type": "execute_result"
    }
   ],
   "source": [
    "l=[\"Irshad\",\"Mohan\",\"Bhagan\"]\n",
    "l.reverse()\n",
    "l"
   ]
  },
  {
   "cell_type": "code",
   "execution_count": 66,
   "metadata": {},
   "outputs": [
    {
     "data": {
      "text/plain": [
       "[]"
      ]
     },
     "execution_count": 66,
     "metadata": {},
     "output_type": "execute_result"
    }
   ],
   "source": [
    "#How to create empty list\n",
    "l=[]\n",
    "l"
   ]
  },
  {
   "cell_type": "code",
   "execution_count": 67,
   "metadata": {},
   "outputs": [
    {
     "data": {
      "text/plain": [
       "[]"
      ]
     },
     "execution_count": 67,
     "metadata": {},
     "output_type": "execute_result"
    }
   ],
   "source": [
    "l=list()\n",
    "l"
   ]
  },
  {
   "cell_type": "code",
   "execution_count": 69,
   "metadata": {},
   "outputs": [
    {
     "name": "stdout",
     "output_type": "stream",
     "text": [
      "[2, 3, 4, 5, 6, 6]\n",
      "['I', 'r', 's', 'h', 'a', 'd']\n"
     ]
    }
   ],
   "source": [
    "#How to convert the tuple or string into the list\n",
    "t=(2,3,4,5,6,6)\n",
    "l=list(t)\n",
    "print(l)\n",
    "\n",
    "\n",
    "s=\"Irshad\"\n",
    "l=list(s)\n",
    "print(l)"
   ]
  },
  {
   "cell_type": "code",
   "execution_count": 72,
   "metadata": {},
   "outputs": [
    {
     "data": {
      "text/plain": [
       "10"
      ]
     },
     "execution_count": 72,
     "metadata": {},
     "output_type": "execute_result"
    }
   ],
   "source": [
    "#len() gives the lenght of list\n",
    "l=[4,5,5,6,6,5,5,6,6,6]\n",
    "len(l)"
   ]
  },
  {
   "cell_type": "code",
   "execution_count": 74,
   "metadata": {},
   "outputs": [
    {
     "name": "stdout",
     "output_type": "stream",
     "text": [
      "5\n",
      "4\n"
     ]
    }
   ],
   "source": [
    "#count() tells how many times given value available in list,tuple or string\n",
    "\n",
    "l=[4,4,4,4,4,5,5,5,5,6,6,6,7]\n",
    "print(l.count(4))\n",
    "print(l.count(5))"
   ]
  },
  {
   "cell_type": "code",
   "execution_count": 76,
   "metadata": {},
   "outputs": [
    {
     "name": "stdout",
     "output_type": "stream",
     "text": [
      "2\n"
     ]
    },
    {
     "ename": "ValueError",
     "evalue": "333333 is not in list",
     "output_type": "error",
     "traceback": [
      "\u001b[1;31m---------------------------------------------------------------------------\u001b[0m",
      "\u001b[1;31mValueError\u001b[0m                                Traceback (most recent call last)",
      "\u001b[1;32m<ipython-input-76-9f3f54e48128>\u001b[0m in \u001b[0;36m<module>\u001b[1;34m\u001b[0m\n\u001b[0;32m      4\u001b[0m \u001b[0ml\u001b[0m\u001b[1;33m=\u001b[0m\u001b[1;33m[\u001b[0m\u001b[1;36m444\u001b[0m\u001b[1;33m,\u001b[0m\u001b[1;36m66\u001b[0m\u001b[1;33m,\u001b[0m\u001b[1;36m3333\u001b[0m\u001b[1;33m,\u001b[0m\u001b[1;36m555\u001b[0m\u001b[1;33m,\u001b[0m\u001b[1;36m222\u001b[0m\u001b[1;33m,\u001b[0m\u001b[1;36m4\u001b[0m\u001b[1;33m,\u001b[0m\u001b[1;36m2\u001b[0m\u001b[1;33m,\u001b[0m\u001b[1;36m2\u001b[0m\u001b[1;33m,\u001b[0m\u001b[1;36m11\u001b[0m\u001b[1;33m,\u001b[0m\u001b[1;36m1\u001b[0m\u001b[1;33m,\u001b[0m\u001b[1;36m6\u001b[0m\u001b[1;33m,\u001b[0m\u001b[1;36m9\u001b[0m\u001b[1;33m,\u001b[0m\u001b[1;36m3\u001b[0m\u001b[1;33m,\u001b[0m\u001b[1;36m4\u001b[0m\u001b[1;33m]\u001b[0m\u001b[1;33m\u001b[0m\u001b[1;33m\u001b[0m\u001b[0m\n\u001b[0;32m      5\u001b[0m \u001b[0mprint\u001b[0m\u001b[1;33m(\u001b[0m\u001b[0ml\u001b[0m\u001b[1;33m.\u001b[0m\u001b[0mindex\u001b[0m\u001b[1;33m(\u001b[0m\u001b[1;36m3333\u001b[0m\u001b[1;33m)\u001b[0m\u001b[1;33m)\u001b[0m\u001b[1;33m\u001b[0m\u001b[1;33m\u001b[0m\u001b[0m\n\u001b[1;32m----> 6\u001b[1;33m \u001b[0mprint\u001b[0m\u001b[1;33m(\u001b[0m\u001b[0ml\u001b[0m\u001b[1;33m.\u001b[0m\u001b[0mindex\u001b[0m\u001b[1;33m(\u001b[0m\u001b[1;36m333333\u001b[0m\u001b[1;33m)\u001b[0m\u001b[1;33m)\u001b[0m\u001b[1;33m\u001b[0m\u001b[1;33m\u001b[0m\u001b[0m\n\u001b[0m",
      "\u001b[1;31mValueError\u001b[0m: 333333 is not in list"
     ]
    }
   ],
   "source": [
    "#index() return the index of the given value.It will search that the given value is avaialble or not in list,tuple\n",
    "#string in forward direction if avaiable then return index if not available then throws an error\n",
    "\n",
    "l=[444,66,3333,555,222,4,2,2,11,1,6,9,3,4]\n",
    "print(l.index(3333))\n",
    "print(l.index(333333))"
   ]
  },
  {
   "cell_type": "markdown",
   "metadata": {},
   "source": [
    "# Tuple"
   ]
  },
  {
   "cell_type": "code",
   "execution_count": 80,
   "metadata": {},
   "outputs": [
    {
     "name": "stdout",
     "output_type": "stream",
     "text": [
      "(4, 5, 6, 6, 7, 8, 9, 'Irshad')\n"
     ]
    }
   ],
   "source": [
    "#Tuple is an collection related datatypes which contain multiple elements where duplicates are allowed \n",
    "#maintains the order.\n",
    "\n",
    "#In tuple values are enclosed by round bracket ()\n",
    "\n",
    "t=(4,5,6,6,7,8,9,\"Irshad\")\n",
    "print(t)\n"
   ]
  },
  {
   "cell_type": "code",
   "execution_count": 81,
   "metadata": {},
   "outputs": [
    {
     "name": "stdout",
     "output_type": "stream",
     "text": [
      "(3, 4, 4, 5, 6, 6, 7, 8, 4, 4)\n",
      "('Irshad', 'Buffalo', 'Mohan', 'Karthik')\n",
      "(55.3, 66.4, 1.1666666666666667, 14.666666666666666)\n"
     ]
    }
   ],
   "source": [
    "#tuple contain heterogenous type values as well as homogenous types values\n",
    "\n",
    "#Homogenous\n",
    "t_int=(3,4,4,5,6,6,7,8,4,4)\n",
    "t_str=(\"Irshad\",\"Buffalo\",\"Mohan\",\"Karthik\")\n",
    "t_float=(55.3,66.4,7/6,88/6)\n",
    "print(t_int)\n",
    "print(t_str)\n",
    "print(t_float)"
   ]
  },
  {
   "cell_type": "code",
   "execution_count": 82,
   "metadata": {},
   "outputs": [
    {
     "name": "stdout",
     "output_type": "stream",
     "text": [
      "(3, 4, 55.6, 'Irshad', 'Sharukh', 44.5, True)\n"
     ]
    }
   ],
   "source": [
    "#Heterogenous \n",
    "\n",
    "t=(3,4,55.6,\"Irshad\",\"Sharukh\",44.5,True)\n",
    "print(t)"
   ]
  },
  {
   "cell_type": "code",
   "execution_count": 83,
   "metadata": {},
   "outputs": [
    {
     "name": "stdout",
     "output_type": "stream",
     "text": [
      "3\n",
      "4\n",
      "Sharukh\n",
      "55.6\n"
     ]
    }
   ],
   "source": [
    "#tuple support indexes both postive index and negative index\n",
    "\n",
    "t=(3,4,55.6,\"Irshad\",\"Sharukh\",44.5,True)\n",
    "print(t[0])\n",
    "print(t[1])\n",
    "print(t[4])\n",
    "print(t[2])"
   ]
  },
  {
   "cell_type": "code",
   "execution_count": 84,
   "metadata": {},
   "outputs": [
    {
     "name": "stdout",
     "output_type": "stream",
     "text": [
      "True\n",
      "Sharukh\n"
     ]
    }
   ],
   "source": [
    "print(t[-1])\n",
    "print(t[-3])"
   ]
  },
  {
   "cell_type": "code",
   "execution_count": 85,
   "metadata": {},
   "outputs": [
    {
     "name": "stdout",
     "output_type": "stream",
     "text": [
      "(3, 4, 55.6, 'Irshad', 'Sharukh', 44.5)\n",
      "(4, 55.6, 'Irshad', 'Sharukh')\n",
      "(3, 4, 55.6, 'Irshad', 'Sharukh', 44.5)\n",
      "(4, 55.6, 'Irshad', 'Sharukh', 44.5, True)\n",
      "(3, 4, 55.6, 'Irshad', 'Sharukh', 44.5, True)\n",
      "(3, 4, 55.6, 'Irshad', 'Sharukh', 44.5, True)\n",
      "(3, 4, 55.6, 'Irshad', 'Sharukh', 44.5)\n"
     ]
    }
   ],
   "source": [
    "#tuple support slicing operator\n",
    "\n",
    "\n",
    "t=(3,4,55.6,\"Irshad\",\"Sharukh\",44.5,True)\n",
    "print(t[0:6])\n",
    "print(t[1:5])\n",
    "print(t[:6])\n",
    "print(t[1:])\n",
    "print(t[:])\n",
    "print(t[::])\n",
    "print(t[:-1])"
   ]
  },
  {
   "cell_type": "code",
   "execution_count": 86,
   "metadata": {},
   "outputs": [
    {
     "name": "stdout",
     "output_type": "stream",
     "text": [
      "(True, 44.5, 'Sharukh', 'Irshad')\n",
      "(True, 44.5, 'Sharukh', 'Irshad', 55.6, 4, 3)\n"
     ]
    }
   ],
   "source": [
    "print(t[-1:-5:-1])\n",
    "print(t[::-1])"
   ]
  },
  {
   "cell_type": "code",
   "execution_count": 87,
   "metadata": {},
   "outputs": [
    {
     "name": "stdout",
     "output_type": "stream",
     "text": [
      "(2, 3, 4, 5, 5, 6, 7, 8)\n"
     ]
    }
   ],
   "source": [
    "#tuple support concatenation\n",
    "\n",
    "t1=(2,3,4,5)\n",
    "t2=(5,6,7,8)\n",
    "print(t1+t2)"
   ]
  },
  {
   "cell_type": "code",
   "execution_count": 88,
   "metadata": {},
   "outputs": [
    {
     "ename": "TypeError",
     "evalue": "can only concatenate tuple (not \"int\") to tuple",
     "output_type": "error",
     "traceback": [
      "\u001b[1;31m---------------------------------------------------------------------------\u001b[0m",
      "\u001b[1;31mTypeError\u001b[0m                                 Traceback (most recent call last)",
      "\u001b[1;32m<ipython-input-88-0ebe0f97d018>\u001b[0m in \u001b[0;36m<module>\u001b[1;34m\u001b[0m\n\u001b[0;32m      1\u001b[0m \u001b[1;31m#We cannot concatenate tuple with integer value, with list ,with string\u001b[0m\u001b[1;33m\u001b[0m\u001b[1;33m\u001b[0m\u001b[1;33m\u001b[0m\u001b[0m\n\u001b[0;32m      2\u001b[0m \u001b[1;33m\u001b[0m\u001b[0m\n\u001b[1;32m----> 3\u001b[1;33m \u001b[1;33m(\u001b[0m\u001b[1;36m4\u001b[0m\u001b[1;33m,\u001b[0m\u001b[1;36m5\u001b[0m\u001b[1;33m,\u001b[0m\u001b[1;36m6\u001b[0m\u001b[1;33m)\u001b[0m\u001b[1;33m+\u001b[0m\u001b[1;36m100\u001b[0m\u001b[1;33m\u001b[0m\u001b[1;33m\u001b[0m\u001b[0m\n\u001b[0m",
      "\u001b[1;31mTypeError\u001b[0m: can only concatenate tuple (not \"int\") to tuple"
     ]
    }
   ],
   "source": [
    "#We cannot concatenate tuple with integer value, with list ,with string\n",
    "\n",
    "(4,5,6)+100"
   ]
  },
  {
   "cell_type": "code",
   "execution_count": 89,
   "metadata": {},
   "outputs": [
    {
     "ename": "TypeError",
     "evalue": "can only concatenate tuple (not \"list\") to tuple",
     "output_type": "error",
     "traceback": [
      "\u001b[1;31m---------------------------------------------------------------------------\u001b[0m",
      "\u001b[1;31mTypeError\u001b[0m                                 Traceback (most recent call last)",
      "\u001b[1;32m<ipython-input-89-b16305476049>\u001b[0m in \u001b[0;36m<module>\u001b[1;34m\u001b[0m\n\u001b[1;32m----> 1\u001b[1;33m \u001b[1;33m(\u001b[0m\u001b[1;36m44\u001b[0m\u001b[1;33m,\u001b[0m\u001b[1;36m5\u001b[0m\u001b[1;33m,\u001b[0m\u001b[1;36m7\u001b[0m\u001b[1;33m,\u001b[0m\u001b[1;36m7\u001b[0m\u001b[1;33m)\u001b[0m\u001b[1;33m+\u001b[0m\u001b[1;33m[\u001b[0m\u001b[1;36m4\u001b[0m\u001b[1;33m,\u001b[0m\u001b[1;36m5\u001b[0m\u001b[1;33m,\u001b[0m\u001b[1;36m6\u001b[0m\u001b[1;33m,\u001b[0m\u001b[1;36m7\u001b[0m\u001b[1;33m]\u001b[0m\u001b[1;33m\u001b[0m\u001b[1;33m\u001b[0m\u001b[0m\n\u001b[0m",
      "\u001b[1;31mTypeError\u001b[0m: can only concatenate tuple (not \"list\") to tuple"
     ]
    }
   ],
   "source": [
    "(44,5,7,7)+[4,5,6,7]"
   ]
  },
  {
   "cell_type": "code",
   "execution_count": 90,
   "metadata": {},
   "outputs": [
    {
     "ename": "TypeError",
     "evalue": "can only concatenate tuple (not \"str\") to tuple",
     "output_type": "error",
     "traceback": [
      "\u001b[1;31m---------------------------------------------------------------------------\u001b[0m",
      "\u001b[1;31mTypeError\u001b[0m                                 Traceback (most recent call last)",
      "\u001b[1;32m<ipython-input-90-7ec4c4ee9fc1>\u001b[0m in \u001b[0;36m<module>\u001b[1;34m\u001b[0m\n\u001b[1;32m----> 1\u001b[1;33m \u001b[1;33m(\u001b[0m\u001b[1;36m4\u001b[0m\u001b[1;33m,\u001b[0m\u001b[1;36m5\u001b[0m\u001b[1;33m,\u001b[0m\u001b[1;36m7\u001b[0m\u001b[1;33m,\u001b[0m\u001b[1;36m7\u001b[0m\u001b[1;33m)\u001b[0m\u001b[1;33m+\u001b[0m\u001b[1;34m\"Irshad\"\u001b[0m\u001b[1;33m\u001b[0m\u001b[1;33m\u001b[0m\u001b[0m\n\u001b[0m",
      "\u001b[1;31mTypeError\u001b[0m: can only concatenate tuple (not \"str\") to tuple"
     ]
    }
   ],
   "source": [
    "(4,5,7,7)+\"Irshad\""
   ]
  },
  {
   "cell_type": "code",
   "execution_count": 91,
   "metadata": {},
   "outputs": [
    {
     "name": "stdout",
     "output_type": "stream",
     "text": [
      "(3, 4, 5, 5, 3, 4, 5, 5, 3, 4, 5, 5)\n",
      "(3, 4, 5, 5, 3, 4, 5, 5, 3, 4, 5, 5, 3, 4, 5, 5)\n"
     ]
    }
   ],
   "source": [
    "#tuple support repetation operator\n",
    "\n",
    "t=(3,4,5,5)\n",
    "print(t*3)\n",
    "print(t*4)"
   ]
  },
  {
   "cell_type": "code",
   "execution_count": 92,
   "metadata": {},
   "outputs": [
    {
     "ename": "TypeError",
     "evalue": "'tuple' object does not support item assignment",
     "output_type": "error",
     "traceback": [
      "\u001b[1;31m---------------------------------------------------------------------------\u001b[0m",
      "\u001b[1;31mTypeError\u001b[0m                                 Traceback (most recent call last)",
      "\u001b[1;32m<ipython-input-92-3bd038e20a4b>\u001b[0m in \u001b[0;36m<module>\u001b[1;34m\u001b[0m\n\u001b[0;32m      2\u001b[0m \u001b[1;33m\u001b[0m\u001b[0m\n\u001b[0;32m      3\u001b[0m \u001b[0mt\u001b[0m\u001b[1;33m=\u001b[0m\u001b[1;33m(\u001b[0m\u001b[1;36m1\u001b[0m\u001b[1;33m,\u001b[0m\u001b[1;36m2\u001b[0m\u001b[1;33m,\u001b[0m\u001b[1;36m3\u001b[0m\u001b[1;33m)\u001b[0m\u001b[1;33m\u001b[0m\u001b[1;33m\u001b[0m\u001b[0m\n\u001b[1;32m----> 4\u001b[1;33m \u001b[0mt\u001b[0m\u001b[1;33m[\u001b[0m\u001b[1;36m0\u001b[0m\u001b[1;33m]\u001b[0m\u001b[1;33m=\u001b[0m\u001b[1;36m100\u001b[0m\u001b[1;33m\u001b[0m\u001b[1;33m\u001b[0m\u001b[0m\n\u001b[0m",
      "\u001b[1;31mTypeError\u001b[0m: 'tuple' object does not support item assignment"
     ]
    }
   ],
   "source": [
    "#tuple is immutable object\n",
    "\n",
    "t=(1,2,3)\n",
    "t[0]=100"
   ]
  },
  {
   "cell_type": "code",
   "execution_count": 94,
   "metadata": {},
   "outputs": [
    {
     "data": {
      "text/plain": [
       "3"
      ]
     },
     "execution_count": 94,
     "metadata": {},
     "output_type": "execute_result"
    }
   ],
   "source": [
    "#len()\n",
    "\n",
    "t=(1,2,3)\n",
    "len(t)"
   ]
  },
  {
   "cell_type": "code",
   "execution_count": 97,
   "metadata": {},
   "outputs": [
    {
     "data": {
      "text/plain": [
       "2"
      ]
     },
     "execution_count": 97,
     "metadata": {},
     "output_type": "execute_result"
    }
   ],
   "source": [
    "#count() tell that how many times the given value available in the tuple\n",
    "t=(3,4,4,5,6,6)\n",
    "t.count(6)"
   ]
  },
  {
   "cell_type": "code",
   "execution_count": 115,
   "metadata": {},
   "outputs": [
    {
     "name": "stdout",
     "output_type": "stream",
     "text": [
      "1\n",
      "3\n"
     ]
    },
    {
     "ename": "ValueError",
     "evalue": "tuple.index(x): x not in tuple",
     "output_type": "error",
     "traceback": [
      "\u001b[1;31m---------------------------------------------------------------------------\u001b[0m",
      "\u001b[1;31mValueError\u001b[0m                                Traceback (most recent call last)",
      "\u001b[1;32m<ipython-input-115-5440547b5124>\u001b[0m in \u001b[0;36m<module>\u001b[1;34m\u001b[0m\n\u001b[0;32m      5\u001b[0m \u001b[0mprint\u001b[0m\u001b[1;33m(\u001b[0m\u001b[0mt\u001b[0m\u001b[1;33m.\u001b[0m\u001b[0mindex\u001b[0m\u001b[1;33m(\u001b[0m\u001b[1;36m5\u001b[0m\u001b[1;33m)\u001b[0m\u001b[1;33m)\u001b[0m\u001b[1;33m\u001b[0m\u001b[1;33m\u001b[0m\u001b[0m\n\u001b[0;32m      6\u001b[0m \u001b[0mprint\u001b[0m\u001b[1;33m(\u001b[0m\u001b[0mt\u001b[0m\u001b[1;33m.\u001b[0m\u001b[0mindex\u001b[0m\u001b[1;33m(\u001b[0m\u001b[1;36m6\u001b[0m\u001b[1;33m)\u001b[0m\u001b[1;33m)\u001b[0m\u001b[1;33m\u001b[0m\u001b[1;33m\u001b[0m\u001b[0m\n\u001b[1;32m----> 7\u001b[1;33m \u001b[0mprint\u001b[0m\u001b[1;33m(\u001b[0m\u001b[0mt\u001b[0m\u001b[1;33m.\u001b[0m\u001b[0mindex\u001b[0m\u001b[1;33m(\u001b[0m\u001b[1;36m10\u001b[0m\u001b[1;33m)\u001b[0m\u001b[1;33m)\u001b[0m\u001b[1;33m\u001b[0m\u001b[1;33m\u001b[0m\u001b[0m\n\u001b[0m",
      "\u001b[1;31mValueError\u001b[0m: tuple.index(x): x not in tuple"
     ]
    }
   ],
   "source": [
    "#index() return the index of the given value value .It will search that given value available or not in the tuple in forward\n",
    "#direction if available then return the index if not avaible then return error\n",
    "\n",
    "t=(4,5,5,6,6,7,7)\n",
    "print(t.index(5))\n",
    "print(t.index(6))\n",
    "print(t.index(10))"
   ]
  },
  {
   "cell_type": "markdown",
   "metadata": {},
   "source": [
    "# Set"
   ]
  },
  {
   "cell_type": "code",
   "execution_count": 3,
   "metadata": {},
   "outputs": [
    {
     "name": "stdout",
     "output_type": "stream",
     "text": [
      "{3, 4, 5, 6, 7, 'Ambani', 'AzeemPRemji', 'Adani'}\n"
     ]
    }
   ],
   "source": [
    "# set is a collection related datatypes which contain multiple elements where duplicates are not allowed and also doesnt\n",
    "# maintain any order.\n",
    "#In set values are enclosed by { } bracket\n",
    "\n",
    "s={3,3,4,4,4,5,6,7,7,\"Ambani\",\"Adani\",\"AzeemPRemji\"}\n",
    "print(s)\n"
   ]
  },
  {
   "cell_type": "code",
   "execution_count": 4,
   "metadata": {},
   "outputs": [
    {
     "name": "stdout",
     "output_type": "stream",
     "text": [
      "{2, 3, 4, 5}\n",
      "{0.875, 66.6, 44.5, 66.4}\n",
      "{'Ambani', 'AzeemPRemji', 'Adani'}\n"
     ]
    }
   ],
   "source": [
    "#Set contain homogenous type value as well as heterogenous type value\n",
    "#homogenous\n",
    "\n",
    "s1={2,3,4,4,5}\n",
    "s2={44.5,66.6,7/8,66.4}\n",
    "s3={\"Ambani\",\"Adani\",\"AzeemPRemji\"}\n",
    "print(s1)\n",
    "print(s2)\n",
    "print(s3)"
   ]
  },
  {
   "cell_type": "code",
   "execution_count": 124,
   "metadata": {},
   "outputs": [
    {
     "name": "stdout",
     "output_type": "stream",
     "text": [
      "{True, 4, 5, 6, 7, 'Irshad', 'Mohan'}\n"
     ]
    }
   ],
   "source": [
    "s1={4,5,6,7,\"Irshad\",\"Mohan\",True}\n",
    "print(s1)"
   ]
  },
  {
   "cell_type": "code",
   "execution_count": 125,
   "metadata": {},
   "outputs": [
    {
     "ename": "TypeError",
     "evalue": "'set' object is not subscriptable",
     "output_type": "error",
     "traceback": [
      "\u001b[1;31m---------------------------------------------------------------------------\u001b[0m",
      "\u001b[1;31mTypeError\u001b[0m                                 Traceback (most recent call last)",
      "\u001b[1;32m<ipython-input-125-83d9e6dd13c9>\u001b[0m in \u001b[0;36m<module>\u001b[1;34m\u001b[0m\n\u001b[0;32m      1\u001b[0m \u001b[1;31m#Set doesnot support indexes\u001b[0m\u001b[1;33m\u001b[0m\u001b[1;33m\u001b[0m\u001b[1;33m\u001b[0m\u001b[0m\n\u001b[0;32m      2\u001b[0m \u001b[0ms1\u001b[0m\u001b[1;33m=\u001b[0m\u001b[1;33m{\u001b[0m\u001b[1;36m4\u001b[0m\u001b[1;33m,\u001b[0m\u001b[1;36m5\u001b[0m\u001b[1;33m,\u001b[0m\u001b[1;36m6\u001b[0m\u001b[1;33m,\u001b[0m\u001b[1;36m7\u001b[0m\u001b[1;33m,\u001b[0m\u001b[1;34m\"Irshad\"\u001b[0m\u001b[1;33m,\u001b[0m\u001b[1;34m\"Mohan\"\u001b[0m\u001b[1;33m,\u001b[0m\u001b[1;32mTrue\u001b[0m\u001b[1;33m}\u001b[0m\u001b[1;33m\u001b[0m\u001b[1;33m\u001b[0m\u001b[0m\n\u001b[1;32m----> 3\u001b[1;33m \u001b[0mprint\u001b[0m\u001b[1;33m(\u001b[0m\u001b[0ms1\u001b[0m\u001b[1;33m[\u001b[0m\u001b[1;36m0\u001b[0m\u001b[1;33m]\u001b[0m\u001b[1;33m)\u001b[0m\u001b[1;33m\u001b[0m\u001b[1;33m\u001b[0m\u001b[0m\n\u001b[0m",
      "\u001b[1;31mTypeError\u001b[0m: 'set' object is not subscriptable"
     ]
    }
   ],
   "source": [
    "#Set doesnot support indexes\n",
    "s1={4,5,6,7,\"Irshad\",\"Mohan\",True}\n",
    "print(s1[0])"
   ]
  },
  {
   "cell_type": "code",
   "execution_count": 126,
   "metadata": {},
   "outputs": [
    {
     "ename": "TypeError",
     "evalue": "'set' object is not subscriptable",
     "output_type": "error",
     "traceback": [
      "\u001b[1;31m---------------------------------------------------------------------------\u001b[0m",
      "\u001b[1;31mTypeError\u001b[0m                                 Traceback (most recent call last)",
      "\u001b[1;32m<ipython-input-126-d7206c335c3d>\u001b[0m in \u001b[0;36m<module>\u001b[1;34m\u001b[0m\n\u001b[0;32m      1\u001b[0m \u001b[1;31m#set doesnt suppport slicing operator\u001b[0m\u001b[1;33m\u001b[0m\u001b[1;33m\u001b[0m\u001b[1;33m\u001b[0m\u001b[0m\n\u001b[0;32m      2\u001b[0m \u001b[0ms1\u001b[0m\u001b[1;33m=\u001b[0m\u001b[1;33m{\u001b[0m\u001b[1;36m4\u001b[0m\u001b[1;33m,\u001b[0m\u001b[1;36m5\u001b[0m\u001b[1;33m,\u001b[0m\u001b[1;36m6\u001b[0m\u001b[1;33m,\u001b[0m\u001b[1;36m7\u001b[0m\u001b[1;33m,\u001b[0m\u001b[1;34m\"Irshad\"\u001b[0m\u001b[1;33m,\u001b[0m\u001b[1;34m\"Mohan\"\u001b[0m\u001b[1;33m,\u001b[0m\u001b[1;32mTrue\u001b[0m\u001b[1;33m}\u001b[0m\u001b[1;33m\u001b[0m\u001b[1;33m\u001b[0m\u001b[0m\n\u001b[1;32m----> 3\u001b[1;33m \u001b[0mprint\u001b[0m\u001b[1;33m(\u001b[0m\u001b[0ms1\u001b[0m\u001b[1;33m[\u001b[0m\u001b[1;36m0\u001b[0m\u001b[1;33m:\u001b[0m\u001b[1;36m10\u001b[0m\u001b[1;33m]\u001b[0m\u001b[1;33m)\u001b[0m\u001b[1;33m\u001b[0m\u001b[1;33m\u001b[0m\u001b[0m\n\u001b[0m",
      "\u001b[1;31mTypeError\u001b[0m: 'set' object is not subscriptable"
     ]
    }
   ],
   "source": [
    "#set doesnt suppport slicing operator\n",
    "s1={4,5,6,7,\"Irshad\",\"Mohan\",True}\n",
    "print(s1[0:10])"
   ]
  },
  {
   "cell_type": "code",
   "execution_count": 130,
   "metadata": {},
   "outputs": [
    {
     "ename": "TypeError",
     "evalue": "unsupported operand type(s) for +: 'set' and 'set'",
     "output_type": "error",
     "traceback": [
      "\u001b[1;31m---------------------------------------------------------------------------\u001b[0m",
      "\u001b[1;31mTypeError\u001b[0m                                 Traceback (most recent call last)",
      "\u001b[1;32m<ipython-input-130-7488c0d595a4>\u001b[0m in \u001b[0;36m<module>\u001b[1;34m\u001b[0m\n\u001b[0;32m      2\u001b[0m \u001b[0ms1\u001b[0m\u001b[1;33m=\u001b[0m\u001b[1;33m{\u001b[0m\u001b[1;36m3\u001b[0m\u001b[1;33m,\u001b[0m\u001b[1;36m4\u001b[0m\u001b[1;33m,\u001b[0m\u001b[1;36m5\u001b[0m\u001b[1;33m}\u001b[0m\u001b[1;33m\u001b[0m\u001b[1;33m\u001b[0m\u001b[0m\n\u001b[0;32m      3\u001b[0m \u001b[0ms2\u001b[0m\u001b[1;33m=\u001b[0m\u001b[1;33m{\u001b[0m\u001b[1;36m4\u001b[0m\u001b[1;33m,\u001b[0m\u001b[1;36m5\u001b[0m\u001b[1;33m,\u001b[0m\u001b[1;36m6\u001b[0m\u001b[1;33m}\u001b[0m\u001b[1;33m\u001b[0m\u001b[1;33m\u001b[0m\u001b[0m\n\u001b[1;32m----> 4\u001b[1;33m \u001b[0mprint\u001b[0m\u001b[1;33m(\u001b[0m\u001b[0ms1\u001b[0m\u001b[1;33m+\u001b[0m\u001b[0ms2\u001b[0m\u001b[1;33m)\u001b[0m\u001b[1;33m\u001b[0m\u001b[1;33m\u001b[0m\u001b[0m\n\u001b[0m",
      "\u001b[1;31mTypeError\u001b[0m: unsupported operand type(s) for +: 'set' and 'set'"
     ]
    }
   ],
   "source": [
    "#set doesnot support concatenation\n",
    "s1={3,4,5}\n",
    "s2={4,5,6}\n",
    "print(s1+s2)"
   ]
  },
  {
   "cell_type": "code",
   "execution_count": 135,
   "metadata": {},
   "outputs": [
    {
     "ename": "TypeError",
     "evalue": "unsupported operand type(s) for *: 'set' and 'int'",
     "output_type": "error",
     "traceback": [
      "\u001b[1;31m---------------------------------------------------------------------------\u001b[0m",
      "\u001b[1;31mTypeError\u001b[0m                                 Traceback (most recent call last)",
      "\u001b[1;32m<ipython-input-135-56745f9dddd9>\u001b[0m in \u001b[0;36m<module>\u001b[1;34m\u001b[0m\n\u001b[0;32m      1\u001b[0m \u001b[1;31m#set doesnot support repetation operator\u001b[0m\u001b[1;33m\u001b[0m\u001b[1;33m\u001b[0m\u001b[1;33m\u001b[0m\u001b[0m\n\u001b[0;32m      2\u001b[0m \u001b[0ms1\u001b[0m\u001b[1;33m=\u001b[0m\u001b[1;33m{\u001b[0m\u001b[1;36m1\u001b[0m\u001b[1;33m,\u001b[0m\u001b[1;36m2\u001b[0m\u001b[1;33m,\u001b[0m\u001b[1;36m3\u001b[0m\u001b[1;33m,\u001b[0m\u001b[1;36m4\u001b[0m\u001b[1;33m}\u001b[0m\u001b[1;33m\u001b[0m\u001b[1;33m\u001b[0m\u001b[0m\n\u001b[1;32m----> 3\u001b[1;33m \u001b[0mprint\u001b[0m\u001b[1;33m(\u001b[0m\u001b[0ms1\u001b[0m\u001b[1;33m*\u001b[0m\u001b[1;36m3\u001b[0m\u001b[1;33m)\u001b[0m\u001b[1;33m\u001b[0m\u001b[1;33m\u001b[0m\u001b[0m\n\u001b[0m\u001b[0;32m      4\u001b[0m \u001b[0mprint\u001b[0m\u001b[1;33m(\u001b[0m\u001b[0ms1\u001b[0m\u001b[1;33m*\u001b[0m\u001b[1;36m4\u001b[0m\u001b[1;33m)\u001b[0m\u001b[1;33m\u001b[0m\u001b[1;33m\u001b[0m\u001b[0m\n",
      "\u001b[1;31mTypeError\u001b[0m: unsupported operand type(s) for *: 'set' and 'int'"
     ]
    }
   ],
   "source": [
    "#set doesnot support repetation operator\n",
    "s1={1,2,3,4}\n",
    "print(s1*3)\n",
    "print(s1*4)"
   ]
  },
  {
   "cell_type": "code",
   "execution_count": 137,
   "metadata": {},
   "outputs": [
    {
     "name": "stdout",
     "output_type": "stream",
     "text": [
      "1300062677480\n",
      "{3, 4, 5, 6, 7, 100}\n",
      "1300062677480\n"
     ]
    }
   ],
   "source": [
    "#set is an mutable object means once the set is created the same set object value or data we can change\n",
    "\n",
    "s={3,4,5,6,7}\n",
    "print(id(s))\n",
    "s.add(100)\n",
    "print(s)\n",
    "print(id(s))"
   ]
  },
  {
   "cell_type": "code",
   "execution_count": 138,
   "metadata": {},
   "outputs": [
    {
     "name": "stdout",
     "output_type": "stream",
     "text": [
      "{2, 3, 4, 5}\n",
      "{2, 3, 100, 4, 5}\n",
      "{2, 3, 100, 4, 5, 'Irshad'}\n"
     ]
    }
   ],
   "source": [
    "#sets function\n",
    "\n",
    "#add() : add() function is used to add the given value to the set\n",
    "\n",
    "s={2,3,4,5}\n",
    "print(s)\n",
    "s.add(100)\n",
    "print(s)\n",
    "s.add(\"Irshad\")\n",
    "print(s)"
   ]
  },
  {
   "cell_type": "code",
   "execution_count": 139,
   "metadata": {},
   "outputs": [
    {
     "name": "stdout",
     "output_type": "stream",
     "text": [
      "{3, 4, 5, 6, 7}\n",
      "{3, 4, 5, 6}\n"
     ]
    }
   ],
   "source": [
    "#remove() : remove() function is used to remove the given value from set\n",
    "\n",
    "s={3,4,5,6,7}\n",
    "print(s)\n",
    "s.remove(7)\n",
    "print(s)"
   ]
  },
  {
   "cell_type": "code",
   "execution_count": 145,
   "metadata": {},
   "outputs": [
    {
     "name": "stdout",
     "output_type": "stream",
     "text": [
      "{3, 'Mohan', 'Irshad'}\n"
     ]
    }
   ],
   "source": [
    "#difference() function return only those data which is available only in the left side set not available in the right side set\n",
    "\n",
    "s1={\"Irshad\",\"Mohan\",3,4,5,6}\n",
    "s2={4,5,6,9,33}\n",
    "print(s1.difference(s2))"
   ]
  },
  {
   "cell_type": "code",
   "execution_count": 144,
   "metadata": {},
   "outputs": [
    {
     "name": "stdout",
     "output_type": "stream",
     "text": [
      "{4, 5, 6}\n"
     ]
    }
   ],
   "source": [
    "#intersection() return the common data from all the sets\n",
    "\n",
    "s1={\"Irshad\",\"Mohan\",3,4,5,6}\n",
    "s2={4,5,6,9,33}\n",
    "print(s1.intersection(s2))"
   ]
  },
  {
   "cell_type": "code",
   "execution_count": 146,
   "metadata": {},
   "outputs": [
    {
     "name": "stdout",
     "output_type": "stream",
     "text": [
      "{4, 5, 6}\n"
     ]
    }
   ],
   "source": [
    "s1={\"Irshad\",\"Mohan\",3,4,5,6}\n",
    "s2={4,5,6,9,33}\n",
    "s3={4,5,6,199,33,333,455}\n",
    "print(s1.intersection(s2,s3))\n"
   ]
  },
  {
   "cell_type": "code",
   "execution_count": 147,
   "metadata": {},
   "outputs": [
    {
     "name": "stdout",
     "output_type": "stream",
     "text": [
      "{33, 3, 4, 5, 6, 199, 455, 9, 333, 'Irshad', 'Mohan'}\n"
     ]
    }
   ],
   "source": [
    "#union() function return all the data from all the sets except the duplicate\n",
    "\n",
    "s1={\"Irshad\",\"Mohan\",3,4,5,6}\n",
    "s2={4,5,6,9,33}\n",
    "s3={4,5,6,199,33,333,455}\n",
    "print(s1.union(s2,s3))\n"
   ]
  },
  {
   "cell_type": "code",
   "execution_count": 148,
   "metadata": {},
   "outputs": [],
   "source": [
    "#update() will update or add the right-side set value to the left side set\n",
    "\n",
    "s1={1,2,3,4}\n",
    "s2={\"Irshad\",\"Mohan\",\"Kavi\"}\n",
    "s1.update(s2)"
   ]
  },
  {
   "cell_type": "code",
   "execution_count": 150,
   "metadata": {},
   "outputs": [
    {
     "data": {
      "text/plain": [
       "{1, 2, 3, 4, 'Irshad', 'Kavi', 'Mohan'}"
      ]
     },
     "execution_count": 150,
     "metadata": {},
     "output_type": "execute_result"
    }
   ],
   "source": [
    "s1"
   ]
  },
  {
   "cell_type": "code",
   "execution_count": 151,
   "metadata": {},
   "outputs": [
    {
     "data": {
      "text/plain": [
       "set()"
      ]
     },
     "execution_count": 151,
     "metadata": {},
     "output_type": "execute_result"
    }
   ],
   "source": [
    "s=set()\n",
    "s"
   ]
  },
  {
   "cell_type": "markdown",
   "metadata": {},
   "source": [
    "# Dictionary"
   ]
  },
  {
   "cell_type": "code",
   "execution_count": 155,
   "metadata": {},
   "outputs": [
    {
     "name": "stdout",
     "output_type": "stream",
     "text": [
      "{'FName': 'Md', 'Lname': 'Irshad', 'Country': 'India', 'City': 'Bengaluru'}\n",
      "Md\n",
      "India\n",
      "Bengaluru\n"
     ]
    }
   ],
   "source": [
    "#Dictionary is a collection related datatypes which stores the value in the form of key-value pairs\n",
    "\n",
    "#In Dictionary also values are enclosed by {}\n",
    "\n",
    "dict_detail={'FName':'Md','Lname':'Irshad','Country':'India','City':'Bengaluru'}\n",
    "print(dict_detail)\n",
    "\n",
    "#fetchin the dictionary value using key\n",
    "print(dict_detail['FName'])\n",
    "print(dict_detail['Country'])\n",
    "print(dict_detail['City'])"
   ]
  },
  {
   "cell_type": "code",
   "execution_count": 160,
   "metadata": {},
   "outputs": [
    {
     "name": "stdout",
     "output_type": "stream",
     "text": [
      "Md\n",
      "Bengaluru\n",
      "Irshad\n",
      "India\n"
     ]
    }
   ],
   "source": [
    "#Fetching the dictionary values using get()\n",
    "print(dict_detail.get('FName'))\n",
    "print(dict_detail.get('City'))\n",
    "print(dict_detail.get('Lname'))\n",
    "print(dict_detail.get('Country'))"
   ]
  },
  {
   "cell_type": "code",
   "execution_count": 162,
   "metadata": {},
   "outputs": [
    {
     "data": {
      "text/plain": [
       "dict_keys(['FName', 'Lname', 'Country', 'City'])"
      ]
     },
     "execution_count": 162,
     "metadata": {},
     "output_type": "execute_result"
    }
   ],
   "source": [
    "#fetch all the keys of the dictionary\n",
    "#keys() function available in  the dictionary which gives list of  keys of the dictionary\n",
    "dict_detail.keys()"
   ]
  },
  {
   "cell_type": "code",
   "execution_count": 163,
   "metadata": {},
   "outputs": [
    {
     "data": {
      "text/plain": [
       "dict_values(['Md', 'Irshad', 'India', 'Bengaluru'])"
      ]
     },
     "execution_count": 163,
     "metadata": {},
     "output_type": "execute_result"
    }
   ],
   "source": [
    "#fetch all the values of the dictionary\n",
    "#values() available in the dictionary which gives all the values of the dictionary\n",
    "dict_detail.values()"
   ]
  },
  {
   "cell_type": "code",
   "execution_count": 166,
   "metadata": {},
   "outputs": [
    {
     "data": {
      "text/plain": [
       "['Md', 'Irshad', 'India', 'Bengaluru']"
      ]
     },
     "execution_count": 166,
     "metadata": {},
     "output_type": "execute_result"
    }
   ],
   "source": [
    "[dict_detail[key] for key in dict_detail.keys() ]"
   ]
  },
  {
   "cell_type": "code",
   "execution_count": 167,
   "metadata": {},
   "outputs": [
    {
     "data": {
      "text/plain": [
       "dict_values(['Md', 'Irshad', 'India', 'Bengaluru'])"
      ]
     },
     "execution_count": 167,
     "metadata": {},
     "output_type": "execute_result"
    }
   ],
   "source": [
    "dict_detail.values()"
   ]
  },
  {
   "cell_type": "code",
   "execution_count": 173,
   "metadata": {},
   "outputs": [
    {
     "data": {
      "text/plain": [
       "['Md', 'Irshad', 'India', 'Bengaluru']"
      ]
     },
     "execution_count": 173,
     "metadata": {},
     "output_type": "execute_result"
    }
   ],
   "source": [
    "#items() diplay all the key-value pairs\n",
    "[i[1] for i in dict_detail.items()]"
   ]
  },
  {
   "cell_type": "code",
   "execution_count": 176,
   "metadata": {},
   "outputs": [
    {
     "data": {
      "text/plain": [
       "dict"
      ]
     },
     "execution_count": 176,
     "metadata": {},
     "output_type": "execute_result"
    }
   ],
   "source": [
    "dict_det={}\n",
    "type(dict_det)"
   ]
  },
  {
   "cell_type": "code",
   "execution_count": 177,
   "metadata": {},
   "outputs": [],
   "source": [
    "dict_det['Fname']='Irshad'\n",
    "dict_det['Lname']='Ali'\n",
    "dict_det['Phone Number']=9916446494"
   ]
  },
  {
   "cell_type": "code",
   "execution_count": 182,
   "metadata": {},
   "outputs": [
    {
     "data": {
      "text/plain": [
       "{'Fname': 'Irshad', 'Lname': 'Ali', 'Phone Number': 9916446494}"
      ]
     },
     "execution_count": 182,
     "metadata": {},
     "output_type": "execute_result"
    }
   ],
   "source": [
    "dict_det"
   ]
  },
  {
   "cell_type": "code",
   "execution_count": 183,
   "metadata": {},
   "outputs": [
    {
     "data": {
      "text/plain": [
       "9916446494"
      ]
     },
     "execution_count": 183,
     "metadata": {},
     "output_type": "execute_result"
    }
   ],
   "source": [
    "dict_det['Phone Number']"
   ]
  },
  {
   "cell_type": "code",
   "execution_count": 184,
   "metadata": {},
   "outputs": [
    {
     "data": {
      "text/plain": [
       "'Irshad'"
      ]
     },
     "execution_count": 184,
     "metadata": {},
     "output_type": "execute_result"
    }
   ],
   "source": [
    "dict_det['Fname']"
   ]
  },
  {
   "cell_type": "code",
   "execution_count": 185,
   "metadata": {},
   "outputs": [
    {
     "data": {
      "text/plain": [
       "9916446494"
      ]
     },
     "execution_count": 185,
     "metadata": {},
     "output_type": "execute_result"
    }
   ],
   "source": [
    "dict_det.get('Phone Number')"
   ]
  },
  {
   "cell_type": "markdown",
   "metadata": {},
   "source": [
    "# String"
   ]
  },
  {
   "cell_type": "code",
   "execution_count": 186,
   "metadata": {},
   "outputs": [
    {
     "name": "stdout",
     "output_type": "stream",
     "text": [
      "Irshad\n"
     ]
    }
   ],
   "source": [
    "s=\"Irshad\"\n",
    "print(s)"
   ]
  },
  {
   "cell_type": "code",
   "execution_count": 188,
   "metadata": {},
   "outputs": [
    {
     "name": "stdout",
     "output_type": "stream",
     "text": [
      "I\n"
     ]
    }
   ],
   "source": [
    "s='I'\n",
    "print(s)"
   ]
  },
  {
   "cell_type": "code",
   "execution_count": 190,
   "metadata": {},
   "outputs": [
    {
     "name": "stdout",
     "output_type": "stream",
     "text": [
      "Irshad mine book is with you when u will retun my book's\n"
     ]
    }
   ],
   "source": [
    "s=\"Irshad mine book is with you when u will retun my book's\"\n",
    "print(s)"
   ]
  },
  {
   "cell_type": "code",
   "execution_count": 194,
   "metadata": {},
   "outputs": [
    {
     "name": "stdout",
     "output_type": "stream",
     "text": [
      "D\n",
      "u\n",
      "r\n",
      "g\n",
      "a\n",
      " \n",
      "n\n",
      "t\n"
     ]
    }
   ],
   "source": [
    "#String support indexes both positive index and negative index\n",
    "\n",
    "s=\"Durga Software Solution\"\n",
    "\n",
    "print(s[0])\n",
    "print(s[1])\n",
    "print(s[2])\n",
    "print(s[3])\n",
    "print(s[4])\n",
    "print(s[5])\n",
    "\n",
    "print(s[-1])\n",
    "print(s[-4])"
   ]
  },
  {
   "cell_type": "code",
   "execution_count": 195,
   "metadata": {},
   "outputs": [
    {
     "name": "stdout",
     "output_type": "stream",
     "text": [
      "Durga\n",
      "Durga S\n",
      "rga Soft\n",
      "Durga \n",
      "Durga Software Solution\n",
      "Durga Software Solution\n",
      "Durga Software Solutio\n"
     ]
    }
   ],
   "source": [
    "#String support slicing operator\n",
    "\n",
    "s=\"Durga Software Solution\"\n",
    "print(s[0:5])\n",
    "print(s[0:7])\n",
    "print(s[2:10])\n",
    "print(s[:6])\n",
    "print(s[:])\n",
    "print(s[::])\n",
    "print(s[:-1])"
   ]
  },
  {
   "cell_type": "code",
   "execution_count": 196,
   "metadata": {},
   "outputs": [
    {
     "name": "stdout",
     "output_type": "stream",
     "text": [
      "noituloS erawtfoS agruD\n",
      "noitu\n"
     ]
    }
   ],
   "source": [
    "print(s[-1::-1])\n",
    "print(s[-1:-6:-1])"
   ]
  },
  {
   "cell_type": "code",
   "execution_count": 197,
   "metadata": {},
   "outputs": [
    {
     "name": "stdout",
     "output_type": "stream",
     "text": [
      "Md Irshad Ali\n"
     ]
    }
   ],
   "source": [
    "#string support concatenation\n",
    "\n",
    "s1=\"Md\"\n",
    "s2=\"Irshad\"\n",
    "s3=\"Ali\"\n",
    "print(s1+\" \"+s2+\" \"+s3)"
   ]
  },
  {
   "cell_type": "code",
   "execution_count": 198,
   "metadata": {},
   "outputs": [
    {
     "ename": "TypeError",
     "evalue": "can only concatenate str (not \"list\") to str",
     "output_type": "error",
     "traceback": [
      "\u001b[1;31m---------------------------------------------------------------------------\u001b[0m",
      "\u001b[1;31mTypeError\u001b[0m                                 Traceback (most recent call last)",
      "\u001b[1;32m<ipython-input-198-90367ad749fd>\u001b[0m in \u001b[0;36m<module>\u001b[1;34m\u001b[0m\n\u001b[1;32m----> 1\u001b[1;33m \u001b[1;34m\"irshad\"\u001b[0m\u001b[1;33m+\u001b[0m\u001b[1;33m[\u001b[0m\u001b[1;36m3\u001b[0m\u001b[1;33m,\u001b[0m\u001b[1;36m4\u001b[0m\u001b[1;33m,\u001b[0m\u001b[1;36m5\u001b[0m\u001b[1;33m,\u001b[0m\u001b[1;36m6\u001b[0m\u001b[1;33m]\u001b[0m\u001b[1;33m\u001b[0m\u001b[1;33m\u001b[0m\u001b[0m\n\u001b[0m",
      "\u001b[1;31mTypeError\u001b[0m: can only concatenate str (not \"list\") to str"
     ]
    }
   ],
   "source": [
    "\"irshad\"+[3,4,5,6]"
   ]
  },
  {
   "cell_type": "code",
   "execution_count": 199,
   "metadata": {},
   "outputs": [
    {
     "ename": "TypeError",
     "evalue": "can only concatenate str (not \"tuple\") to str",
     "output_type": "error",
     "traceback": [
      "\u001b[1;31m---------------------------------------------------------------------------\u001b[0m",
      "\u001b[1;31mTypeError\u001b[0m                                 Traceback (most recent call last)",
      "\u001b[1;32m<ipython-input-199-0ed72601e35c>\u001b[0m in \u001b[0;36m<module>\u001b[1;34m\u001b[0m\n\u001b[1;32m----> 1\u001b[1;33m \u001b[1;34m\"Irshad\"\u001b[0m \u001b[1;33m+\u001b[0m \u001b[1;33m(\u001b[0m\u001b[1;36m6\u001b[0m\u001b[1;33m,\u001b[0m\u001b[1;36m7\u001b[0m\u001b[1;33m,\u001b[0m\u001b[1;36m8\u001b[0m\u001b[1;33m)\u001b[0m\u001b[1;33m\u001b[0m\u001b[1;33m\u001b[0m\u001b[0m\n\u001b[0m",
      "\u001b[1;31mTypeError\u001b[0m: can only concatenate str (not \"tuple\") to str"
     ]
    }
   ],
   "source": [
    "\"Irshad\" + (6,7,8)"
   ]
  },
  {
   "cell_type": "code",
   "execution_count": 200,
   "metadata": {},
   "outputs": [
    {
     "name": "stdout",
     "output_type": "stream",
     "text": [
      "IRSHAD\n"
     ]
    }
   ],
   "source": [
    "#Function of string\n",
    "\n",
    "#upper() convert the given string into uppercase\n",
    "s=\"irshad\"\n",
    "print(s.upper())"
   ]
  },
  {
   "cell_type": "code",
   "execution_count": 201,
   "metadata": {},
   "outputs": [
    {
     "name": "stdout",
     "output_type": "stream",
     "text": [
      "irshad\n"
     ]
    }
   ],
   "source": [
    "#lower() convert the given string into lowercase\n",
    "\n",
    "s=\"IRSHAD\"\n",
    "print(s.lower())"
   ]
  },
  {
   "cell_type": "code",
   "execution_count": 202,
   "metadata": {},
   "outputs": [
    {
     "name": "stdout",
     "output_type": "stream",
     "text": [
      "Durga software solution\n"
     ]
    }
   ],
   "source": [
    "#capitalize(): It convert the given string first letter into upercase and remaining will be lower case\n",
    "\n",
    "s=\"durga software solution\"\n",
    "print(s.capitalize())"
   ]
  },
  {
   "cell_type": "code",
   "execution_count": 203,
   "metadata": {},
   "outputs": [
    {
     "name": "stdout",
     "output_type": "stream",
     "text": [
      "Durga Software Solution\n"
     ]
    }
   ],
   "source": [
    "#title() it convert given string each word first letter into uppercase and remaining will be lowercase\n",
    "\n",
    "s=\"durga software solution\"\n",
    "print(s.title())\n"
   ]
  },
  {
   "cell_type": "code",
   "execution_count": 204,
   "metadata": {},
   "outputs": [
    {
     "name": "stdout",
     "output_type": "stream",
     "text": [
      "  Irshad  \n",
      "**Irshad**\n"
     ]
    }
   ],
   "source": [
    "#center() add the blank spaces or given characterto both side of the given string untill the outcome matched with\n",
    "#the given number of character\n",
    "\n",
    "s=\"Irshad\"\n",
    "print(s.center(10,\" \"))\n",
    "print(s.center(10,\"*\"))"
   ]
  },
  {
   "cell_type": "code",
   "execution_count": 205,
   "metadata": {},
   "outputs": [
    {
     "name": "stdout",
     "output_type": "stream",
     "text": [
      "Irshad    \n",
      "Irshad****\n"
     ]
    }
   ],
   "source": [
    "#ljust(): add the blank spaces or given character to the right side of the given string\n",
    "\n",
    "s=\"Irshad\"\n",
    "print(s.ljust(10,\" \"))\n",
    "print(s.ljust(10,\"*\"))"
   ]
  },
  {
   "cell_type": "code",
   "execution_count": 206,
   "metadata": {},
   "outputs": [
    {
     "name": "stdout",
     "output_type": "stream",
     "text": [
      "    Irshad\n",
      "****Irshad\n"
     ]
    }
   ],
   "source": [
    "#rjust() adds the blank spaces or given character to the left side of the given string\n",
    "\n",
    "s=\"Irshad\"\n",
    "print(s.rjust(10,\" \"))\n",
    "print(s.rjust(10,\"*\"))"
   ]
  },
  {
   "cell_type": "code",
   "execution_count": 208,
   "metadata": {},
   "outputs": [
    {
     "name": "stdout",
     "output_type": "stream",
     "text": [
      "Irshad\n",
      "Irshad\n"
     ]
    }
   ],
   "source": [
    "#strip() removes the blank spaces or given character from both sides of the given string\n",
    "\n",
    "s1=\"   Irshad    \"\n",
    "s2=\"************Irshad*************\"\n",
    "print(s1.strip())\n",
    "print(s2.strip(\"*\"))"
   ]
  },
  {
   "cell_type": "code",
   "execution_count": 209,
   "metadata": {},
   "outputs": [
    {
     "name": "stdout",
     "output_type": "stream",
     "text": [
      "   Irshad\n",
      "************Irshad\n"
     ]
    }
   ],
   "source": [
    "#rstrip() removes the blank spaces or given character from right side of the given string\n",
    "\n",
    "s1=\"   Irshad    \"\n",
    "s2=\"************Irshad*************\"\n",
    "print(s1.rstrip())\n",
    "print(s2.rstrip(\"*\"))"
   ]
  },
  {
   "cell_type": "code",
   "execution_count": 210,
   "metadata": {},
   "outputs": [
    {
     "name": "stdout",
     "output_type": "stream",
     "text": [
      "Irshad    \n",
      "Irshad*************\n"
     ]
    }
   ],
   "source": [
    "#lstrip()\n",
    "s1=\"   Irshad    \"\n",
    "s2=\"************Irshad*************\"\n",
    "print(s1.lstrip())\n",
    "print(s2.lstrip(\"*\"))\n"
   ]
  },
  {
   "cell_type": "code",
   "execution_count": 211,
   "metadata": {},
   "outputs": [
    {
     "data": {
      "text/plain": [
       "'DurgaSoftwareSolution'"
      ]
     },
     "execution_count": 211,
     "metadata": {},
     "output_type": "execute_result"
    }
   ],
   "source": [
    "#replace() : replace() is used to replace one character with another charater in the given string .we can also replace \n",
    "#multiple character\n",
    "\n",
    "s=\"Durga Software Solution\"\n",
    "s.replace(\" \",\"\")"
   ]
  },
  {
   "cell_type": "code",
   "execution_count": 212,
   "metadata": {},
   "outputs": [
    {
     "data": {
      "text/plain": [
       "'Durga@Software@Solution'"
      ]
     },
     "execution_count": 212,
     "metadata": {},
     "output_type": "execute_result"
    }
   ],
   "source": [
    "s=\"Durga Software Solution\"\n",
    "s.replace(\" \",\"@\")"
   ]
  },
  {
   "cell_type": "code",
   "execution_count": 213,
   "metadata": {},
   "outputs": [
    {
     "data": {
      "text/plain": [
       "['Durga', 'Software', 'Solution']"
      ]
     },
     "execution_count": 213,
     "metadata": {},
     "output_type": "execute_result"
    }
   ],
   "source": [
    "#split() : split() function split the given string into the list based on the given seperator\n",
    "\n",
    "s=\"Durga Software Solution\"\n",
    "s.split(\" \")"
   ]
  },
  {
   "cell_type": "code",
   "execution_count": 214,
   "metadata": {},
   "outputs": [
    {
     "data": {
      "text/plain": [
       "['Durga', 'Software', 'Solution']"
      ]
     },
     "execution_count": 214,
     "metadata": {},
     "output_type": "execute_result"
    }
   ],
   "source": [
    "s=\"Durga@Software@Solution\"\n",
    "s.split(\"@\")"
   ]
  },
  {
   "cell_type": "code",
   "execution_count": 215,
   "metadata": {},
   "outputs": [
    {
     "data": {
      "text/plain": [
       "['Durga', 'Software', 'Solution']"
      ]
     },
     "execution_count": 215,
     "metadata": {},
     "output_type": "execute_result"
    }
   ],
   "source": [
    "s=\"Durga/Software/Solution\"\n",
    "s.split(\"/\")"
   ]
  },
  {
   "cell_type": "code",
   "execution_count": 222,
   "metadata": {},
   "outputs": [
    {
     "name": "stdout",
     "output_type": "stream",
     "text": [
      "['Wafer_07032022_235020', '']\n",
      "Wafer_07032022_235020\n",
      "Wafer\n",
      "07032022\n",
      "235020\n"
     ]
    }
   ],
   "source": [
    "s=\"Wafer_07032022_235020.csv\"\n",
    "s1=s.split(\".csv\")\n",
    "print(s1)\n",
    "print(s1[0])\n",
    "s2=s1[0].split(\"_\")\n",
    "print(s2[0])\n",
    "print(s2[1])\n",
    "print(s2[2])"
   ]
  },
  {
   "cell_type": "code",
   "execution_count": 228,
   "metadata": {},
   "outputs": [
    {
     "name": "stdout",
     "output_type": "stream",
     "text": [
      "mohanty.abhisekh1989\n"
     ]
    }
   ],
   "source": [
    "email=\"mohanty.abhisekh1989@gmail.com\"\n",
    "s1=email.split(\"@\")\n",
    "print(s1[0])"
   ]
  },
  {
   "cell_type": "code",
   "execution_count": 235,
   "metadata": {},
   "outputs": [
    {
     "data": {
      "text/plain": [
       "['Wafer', '07032022', '235020']"
      ]
     },
     "execution_count": 235,
     "metadata": {},
     "output_type": "execute_result"
    }
   ],
   "source": [
    "s=\"Wafer_07032022_235020.csv\"\n",
    "s1=s.split(\".csv\")\n",
    "s1[0].split(\"_\")"
   ]
  },
  {
   "cell_type": "code",
   "execution_count": 236,
   "metadata": {},
   "outputs": [],
   "source": [
    "import re"
   ]
  },
  {
   "cell_type": "code",
   "execution_count": 246,
   "metadata": {},
   "outputs": [
    {
     "data": {
      "text/plain": [
       "'235020'"
      ]
     },
     "execution_count": 246,
     "metadata": {},
     "output_type": "execute_result"
    }
   ],
   "source": [
    "s=\"Wafer_07032022_235020.csv\"\n",
    "s1=re.split(\".csv\",s)\n",
    "s1=s1[0]\n",
    "re.split(\"_\",s1)[2]\n"
   ]
  },
  {
   "cell_type": "code",
   "execution_count": 248,
   "metadata": {},
   "outputs": [
    {
     "data": {
      "text/plain": [
       "'Irshad Ali'"
      ]
     },
     "execution_count": 248,
     "metadata": {},
     "output_type": "execute_result"
    }
   ],
   "source": [
    "#''.join()\n",
    "\n",
    "\" \".join([\"Irshad\",\"Ali\"])"
   ]
  },
  {
   "cell_type": "markdown",
   "metadata": {},
   "source": [
    "# Condition Statements"
   ]
  },
  {
   "cell_type": "code",
   "execution_count": 249,
   "metadata": {},
   "outputs": [
    {
     "name": "stdout",
     "output_type": "stream",
     "text": [
      "Python is fav subject\n"
     ]
    }
   ],
   "source": [
    "#write a function which if statement\n",
    "\n",
    "def fav_sub(sub):\n",
    "    if sub=='Python':\n",
    "        print(\"{} is fav subject\".format(sub))\n",
    "        \n",
    "        \n",
    "fav_sub(\"Python\")\n",
    "    "
   ]
  },
  {
   "cell_type": "code",
   "execution_count": 251,
   "metadata": {},
   "outputs": [
    {
     "name": "stdout",
     "output_type": "stream",
     "text": [
      "10 is even number\n",
      "5 is odd number\n"
     ]
    }
   ],
   "source": [
    "#Write a function to check the number is even or odd\n",
    "\n",
    "def evenOdd(num1):\n",
    "    if num1%2==0:\n",
    "        print(\"{} is even number\".format(num1))\n",
    "    else:\n",
    "        print(\"{} is odd number\".format(num1))\n",
    "        \n",
    "        \n",
    "evenOdd(10)\n",
    "evenOdd(5)"
   ]
  },
  {
   "cell_type": "code",
   "execution_count": 253,
   "metadata": {},
   "outputs": [
    {
     "name": "stdout",
     "output_type": "stream",
     "text": [
      "20 is greater \n",
      "21 is greater \n"
     ]
    }
   ],
   "source": [
    "#Write the function to check the higher number among 2 \n",
    "\n",
    "def higherNumber(n1,n2):\n",
    "    if n1>n2:\n",
    "        print(\"{} is greater \".format(n1))\n",
    "    else:\n",
    "        print(\"{} is greater \".format(n2))\n",
    "        \n",
    "        \n",
    "        \n",
    "higherNumber(10,20)\n",
    "higherNumber(21,5)"
   ]
  },
  {
   "cell_type": "code",
   "execution_count": 258,
   "metadata": {},
   "outputs": [
    {
     "name": "stdout",
     "output_type": "stream",
     "text": [
      "adidas is no 1 brand\n",
      "Nike is a good brand\n",
      "Under armour rising brand at recent time\n",
      "no brand\n"
     ]
    }
   ],
   "source": [
    "#Write the function for  #if- elif statement where we check the branks of shoes \n",
    "\n",
    "def BrandName(brand_name):\n",
    "    if brand_name.upper()=='ADIDAS':\n",
    "        print(\"{} is no 1 brand\".format(brand_name))\n",
    "    elif brand_name.upper()=='NIKE':\n",
    "        print(\"{} is a good brand\".format(brand_name))\n",
    "    elif brand_name.upper()=='PUMA':\n",
    "        print(\"{} excellent\".format(brand_name))\n",
    "    elif brand_name.upper()=='UNDER ARMOUR':\n",
    "        print(\"{} rising brand at recent time\".format(brand_name))\n",
    "    elif brand_name.upper()=='ROADSTAR':\n",
    "        print(\"{} is reasonable\".format(brand_name))\n",
    "    else:\n",
    "        print(\"no brand\")\n",
    "        \n",
    "\n",
    "BrandName(\"adidas\")\n",
    "BrandName(\"Nike\")\n",
    "BrandName(\"Under armour\")\n",
    "BrandName(\"Sugar\")"
   ]
  },
  {
   "cell_type": "code",
   "execution_count": 259,
   "metadata": {},
   "outputs": [
    {
     "data": {
      "text/plain": [
       "'MD IRSHAD'"
      ]
     },
     "execution_count": 259,
     "metadata": {},
     "output_type": "execute_result"
    }
   ],
   "source": [
    "s=\"md Irshad\"\n",
    "s.upper()"
   ]
  },
  {
   "cell_type": "code",
   "execution_count": 4,
   "metadata": {},
   "outputs": [
    {
     "name": "stdout",
     "output_type": "stream",
     "text": [
      "Grade V\n",
      "Grade I\n"
     ]
    }
   ],
   "source": [
    "#write the function to for different marks grade\n",
    "\n",
    "def marks(marks=None):\n",
    "    if marks>=90:\n",
    "        return \"Grade I\"\n",
    "    elif marks>=80:\n",
    "        return \"Grade II\"\n",
    "    elif marks>=70:\n",
    "        return \"Grade III\"\n",
    "    elif marks>=60:\n",
    "        return \"Grade IV\"\n",
    "    elif marks>=50:\n",
    "        return \"Grade V\"\n",
    "    elif marks>=36:\n",
    "        return \"Grade VI\"\n",
    "    else:\n",
    "        return \"Grade VII\"\n",
    "    \n",
    "    \n",
    "\n",
    "print(marks(50))\n",
    "print(marks(99))\n"
   ]
  },
  {
   "cell_type": "code",
   "execution_count": 12,
   "metadata": {},
   "outputs": [
    {
     "data": {
      "text/plain": [
       "'all are equal '"
      ]
     },
     "execution_count": 12,
     "metadata": {},
     "output_type": "execute_result"
    }
   ],
   "source": [
    "##Highest number among 3 given number\n",
    "\n",
    "def highestNumber(n1,n2,n3):\n",
    "    if n1>n2 and n1>n3:\n",
    "        return \"{} is greater\".format(n1)\n",
    "    elif n2>n3:\n",
    "        return \"{} is greater\".format(n2)\n",
    "    elif n1==n2==n3:\n",
    "        return \"all are equal \"\n",
    "    else:\n",
    "        return \"{} is greater\".format(n3)\n",
    "    \n",
    "    \n",
    "highestNumber(40,40,40)\n",
    "        "
   ]
  },
  {
   "cell_type": "code",
   "execution_count": 14,
   "metadata": {},
   "outputs": [
    {
     "name": "stdout",
     "output_type": "stream",
     "text": [
      "[10, 20, 30, 40, 100, 400]\n"
     ]
    },
    {
     "data": {
      "text/plain": [
       "400"
      ]
     },
     "execution_count": 14,
     "metadata": {},
     "output_type": "execute_result"
    }
   ],
   "source": [
    "#Higher number all digit\n",
    "def HigherDigit(*args):\n",
    "    l=[i for i in args]\n",
    "    print(l)\n",
    "    return max(l)\n",
    "\n",
    "\n",
    "HigherDigit(10,20,30,40,100,400)"
   ]
  },
  {
   "cell_type": "code",
   "execution_count": 20,
   "metadata": {},
   "outputs": [
    {
     "data": {
      "text/plain": [
       "[1, 3, 5, 7, 9, 11, 13, 15, 17, 19]"
      ]
     },
     "execution_count": 20,
     "metadata": {},
     "output_type": "execute_result"
    }
   ],
   "source": [
    "#list comprehensive\n",
    "[i for i in range(1,20) if i%2!=0]"
   ]
  },
  {
   "cell_type": "code",
   "execution_count": 25,
   "metadata": {},
   "outputs": [
    {
     "name": "stdout",
     "output_type": "stream",
     "text": [
      "Neutral\n",
      "Even Number\n",
      "Odd Number\n",
      "Negative Number\n"
     ]
    }
   ],
   "source": [
    "#nested if else statement :In case of nested if else statement we define if else statement either in if part or in else part\n",
    "\n",
    "#check the num is even or odd if num is positive\n",
    "# create function for that\n",
    "\n",
    "def nestedIfElse(n1):\n",
    "    if n1>0:\n",
    "        if n1%2==0:\n",
    "            return \"Even Number\"\n",
    "        else:\n",
    "            return \"Odd Number\"\n",
    "    elif n1<0:\n",
    "        return \"Negative Number\"\n",
    "    else:\n",
    "        return \"Neutral\"\n",
    "    \n",
    "    \n",
    "    \n",
    "\n",
    "print(nestedIfElse(0))\n",
    "print(nestedIfElse(6))\n",
    "print(nestedIfElse(5))\n",
    "print(nestedIfElse(-1))\n",
    "    \n",
    "    "
   ]
  },
  {
   "cell_type": "markdown",
   "metadata": {},
   "source": [
    "<b>Loops :</b> Executing  a  group of statement repeatedly is called Looping\n",
    "\n",
    "<b>While loops </b>\n",
    "\n"
   ]
  },
  {
   "cell_type": "code",
   "execution_count": 1,
   "metadata": {},
   "outputs": [
    {
     "name": "stdout",
     "output_type": "stream",
     "text": [
      "1\n",
      "2\n",
      "3\n",
      "4\n",
      "5\n",
      "6\n",
      "7\n",
      "8\n",
      "9\n",
      "10\n"
     ]
    }
   ],
   "source": [
    "#Display 1 to 10 \n",
    "\n",
    "def SerialNumber():\n",
    "    n=1\n",
    "    while n<=10:\n",
    "        print(n)\n",
    "        n=n+1\n",
    "        \n",
    "        \n",
    "SerialNumber()"
   ]
  },
  {
   "cell_type": "code",
   "execution_count": 2,
   "metadata": {},
   "outputs": [
    {
     "name": "stdout",
     "output_type": "stream",
     "text": [
      "10\n",
      "9\n",
      "8\n",
      "7\n",
      "6\n",
      "5\n",
      "4\n",
      "3\n",
      "2\n",
      "1\n"
     ]
    }
   ],
   "source": [
    "#Display even numbers from 10 to 1\n",
    "\n",
    "def ReverseNumber():\n",
    "    n=10\n",
    "    while n>0:\n",
    "        print(n)\n",
    "        n=n-1\n",
    "\n",
    "        \n",
    "ReverseNumber()"
   ]
  },
  {
   "cell_type": "code",
   "execution_count": 5,
   "metadata": {},
   "outputs": [
    {
     "name": "stdout",
     "output_type": "stream",
     "text": [
      "[2, 4, 6, 8, 10, 12, 14, 16, 18, 20]\n"
     ]
    }
   ],
   "source": [
    "#Display the even nuber from 1 to 20\n",
    "\n",
    "def EvenNumber():\n",
    "    n=1\n",
    "    l_even=[]\n",
    "    while n<=20:\n",
    "        if n%2==0:\n",
    "            l_even.append(n)\n",
    "        n=n+1\n",
    "    return l_even\n",
    "\n",
    "\n",
    "\n",
    "print(EvenNumber())\n",
    "            "
   ]
  },
  {
   "cell_type": "code",
   "execution_count": 7,
   "metadata": {},
   "outputs": [
    {
     "name": "stdout",
     "output_type": "stream",
     "text": [
      "[1, 3, 5, 7, 9, 11, 13, 15, 17, 19]\n"
     ]
    }
   ],
   "source": [
    "def OddNumber():\n",
    "    n=1\n",
    "    l_even=[]\n",
    "    while n<=20:\n",
    "        if n%2!=0:\n",
    "            l_even.append(n)\n",
    "        n=n+1\n",
    "    return l_even\n",
    "\n",
    "\n",
    "\n",
    "print(OddNumber())"
   ]
  },
  {
   "cell_type": "code",
   "execution_count": 10,
   "metadata": {},
   "outputs": [
    {
     "data": {
      "text/plain": [
       "[1, 2, 3, 4, 5, 6, 7, 8, 9, 10]"
      ]
     },
     "execution_count": 10,
     "metadata": {},
     "output_type": "execute_result"
    }
   ],
   "source": [
    "#For loop:\n",
    "\n",
    "#Display 1 to 10\n",
    "\n",
    "def SerialNumberFor():\n",
    "    l=[]\n",
    "    for i in range(1,11):\n",
    "        l.append(i)\n",
    "    return l\n",
    "        \n",
    "    \n",
    "SerialNumberFor()"
   ]
  },
  {
   "cell_type": "code",
   "execution_count": 11,
   "metadata": {},
   "outputs": [
    {
     "name": "stdout",
     "output_type": "stream",
     "text": [
      "[10, 9, 8, 7, 6, 5, 4, 3, 2, 1]\n"
     ]
    }
   ],
   "source": [
    "#Display 10 to 1\n",
    "\n",
    "def ReverseNumberFor():\n",
    "    l=[]    \n",
    "    for i in range(10,0,-1):\n",
    "        l.append(i)\n",
    "        \n",
    "        \n",
    "    return l\n",
    "\n",
    "print(ReverseNumberFor())\n",
    "    "
   ]
  },
  {
   "cell_type": "code",
   "execution_count": 20,
   "metadata": {},
   "outputs": [
    {
     "name": "stdout",
     "output_type": "stream",
     "text": [
      "{'i', 'o', 'a'}\n"
     ]
    }
   ],
   "source": [
    "#Display all the vowels in the given string\n",
    "\n",
    "def Vowel(var_str=None):\n",
    "    l=['a','e','i','o','u']\n",
    "    s_vowel=set()\n",
    "    for i in var_str.lower():\n",
    "        if i in l:\n",
    "            s_vowel.add(i)\n",
    "    return s_vowel\n",
    "\n",
    "\n",
    "print(Vowel(\"aaaaooooooiiiiii\"))\n",
    "            "
   ]
  },
  {
   "cell_type": "code",
   "execution_count": 21,
   "metadata": {},
   "outputs": [
    {
     "name": "stdout",
     "output_type": "stream",
     "text": [
      "2\n",
      "4\n",
      "6\n",
      "8\n",
      "10\n",
      "12\n",
      "14\n",
      "16\n",
      "18\n",
      "20\n"
     ]
    }
   ],
   "source": [
    "#Display even nuber from 1 to 20\n",
    "\n",
    "def evenN():\n",
    "    for i in range(1,21):\n",
    "        if i%2==0:\n",
    "            print(i)\n",
    "            \n",
    "            \n",
    "            \n",
    "evenN()"
   ]
  },
  {
   "cell_type": "code",
   "execution_count": 29,
   "metadata": {},
   "outputs": [
    {
     "name": "stdout",
     "output_type": "stream",
     "text": [
      "Given String is not Pallindrome\n",
      "Given String is Pallindrome\n",
      "Given String is Pallindrome\n"
     ]
    }
   ],
   "source": [
    "#Create the function for pallindrome\n",
    "\n",
    "def Pallindrom(v_str):\n",
    "    r_str=v_str[-1::-1]\n",
    "    if v_str==r_str:\n",
    "        return \"Given String is Pallindrome\"\n",
    "    else:\n",
    "        return \"Given String is not Pallindrome\"\n",
    "    \n",
    "    \n",
    "print(Pallindrom(\"irshad\"))\n",
    "print(Pallindrom(\"madam\"))\n",
    "print(Pallindrom(\"lol\"))\n"
   ]
  },
  {
   "cell_type": "code",
   "execution_count": 34,
   "metadata": {},
   "outputs": [
    {
     "name": "stdout",
     "output_type": "stream",
     "text": [
      "1 \n",
      "2 2 \n",
      "3 3 3 \n",
      "4 4 4 4 \n",
      "5 5 5 5 5 \n"
     ]
    }
   ],
   "source": [
    "#Create a function which display the Pattern Like below\n",
    "\n",
    "#1\n",
    "#2 2 \n",
    "#3 3 3\n",
    "#4 4 4 4\n",
    "#5 5 5 5 5\n",
    "\n",
    "def Pattern1(n):\n",
    "    for i in range(1,n+1):\n",
    "        print((str(i)+\" \")*i)\n",
    "\n",
    "        \n",
    "\n",
    "        \n",
    "Pattern1(5)"
   ]
  },
  {
   "cell_type": "code",
   "execution_count": 35,
   "metadata": {},
   "outputs": [
    {
     "name": "stdout",
     "output_type": "stream",
     "text": [
      "* \n",
      "* * \n",
      "* * * \n",
      "* * * * \n",
      "* * * * * \n"
     ]
    }
   ],
   "source": [
    "#Create the function which display the Pattern like below\n",
    "\n",
    "#* \n",
    "#* *\n",
    "#* * * \n",
    "#* * * *\n",
    "#* * * * *\n",
    "\n",
    "def Pattern2(n):\n",
    "    for i in range(1,n+1):\n",
    "        print(\"* \"*i)\n",
    "        \n",
    "        \n",
    "Pattern2(5)"
   ]
  },
  {
   "cell_type": "code",
   "execution_count": 37,
   "metadata": {},
   "outputs": [
    {
     "name": "stdout",
     "output_type": "stream",
     "text": [
      "* * * * * \n",
      "* * * * \n",
      "* * * \n",
      "* * \n",
      "* \n"
     ]
    }
   ],
   "source": [
    "#Create the function which display the Pattern like below\n",
    "\n",
    "#* * * * *\n",
    "#* * * *\n",
    "#* * *\n",
    "#* *\n",
    "#* \n",
    " \n",
    "def Pattern3(n):\n",
    "    [print(\"* \"*i) for i in range(n,0,-1)]\n",
    "    \n",
    "    \n",
    "Pattern3(5)"
   ]
  },
  {
   "cell_type": "code",
   "execution_count": 38,
   "metadata": {},
   "outputs": [
    {
     "name": "stdout",
     "output_type": "stream",
     "text": [
      "* \n",
      "* * \n",
      "* * * \n",
      "* * * * \n",
      "* * * * * \n",
      "* * * * \n",
      "* * * \n",
      "* * \n",
      "* \n"
     ]
    }
   ],
   "source": [
    "#Create the function which display the Pattern like below\n",
    "\n",
    "#* \n",
    "#* *\n",
    "#* * * \n",
    "#* * * *\n",
    "#* * * * *\n",
    "#* * * *\n",
    "#* * *\n",
    "#* *\n",
    "#* \n",
    "\n",
    "\n",
    "def Pattern4(n):\n",
    "    for i in range(1,n+1):\n",
    "        print(\"* \"*i)\n",
    "    for i in range(n-1,0,-1):\n",
    "        print(\"* \"*i)\n",
    "        \n",
    "        \n",
    "Pattern4(5)"
   ]
  },
  {
   "cell_type": "code",
   "execution_count": null,
   "metadata": {},
   "outputs": [],
   "source": []
  }
 ],
 "metadata": {
  "kernelspec": {
   "display_name": "Python 3",
   "language": "python",
   "name": "python3"
  },
  "language_info": {
   "codemirror_mode": {
    "name": "ipython",
    "version": 3
   },
   "file_extension": ".py",
   "mimetype": "text/x-python",
   "name": "python",
   "nbconvert_exporter": "python",
   "pygments_lexer": "ipython3",
   "version": "3.7.6"
  }
 },
 "nbformat": 4,
 "nbformat_minor": 4
}
